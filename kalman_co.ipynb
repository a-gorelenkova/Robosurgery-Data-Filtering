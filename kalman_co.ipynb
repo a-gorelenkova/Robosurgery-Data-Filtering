{
  "metadata": {
    "kernelspec": {
      "language": "python",
      "display_name": "Python 3",
      "name": "python3"
    },
    "language_info": {
      "name": "python",
      "version": "3.10.12",
      "mimetype": "text/x-python",
      "codemirror_mode": {
        "name": "ipython",
        "version": 3
      },
      "pygments_lexer": "ipython3",
      "nbconvert_exporter": "python",
      "file_extension": ".py"
    },
    "kaggle": {
      "accelerator": "none",
      "dataSources": [],
      "dockerImageVersionId": 30822,
      "isInternetEnabled": true,
      "language": "python",
      "sourceType": "notebook",
      "isGpuEnabled": false
    },
    "colab": {
      "provenance": []
    }
  },
  "nbformat_minor": 0,
  "nbformat": 4,
  "cells": [
    {
      "cell_type": "markdown",
      "source": [
        "## Подготовка к работе"
      ],
      "metadata": {
        "id": "vIrUJ0fnNQLG"
      }
    },
    {
      "cell_type": "code",
      "source": [
        "# подключаем необходимые библиотеки\n",
        "import numpy as np\n",
        "\n",
        "from scipy import stats\n",
        "from tqdm import tqdm"
      ],
      "metadata": {
        "_uuid": "8f2839f25d086af736a60e9eeb907d3b93b6e0e5",
        "_cell_guid": "b1076dfc-b9ad-4769-8c92-a6c4dae69d19",
        "trusted": true,
        "execution": {
          "iopub.status.busy": "2025-01-13T08:07:43.872411Z",
          "iopub.execute_input": "2025-01-13T08:07:43.872791Z",
          "iopub.status.idle": "2025-01-13T08:07:44.359454Z",
          "shell.execute_reply.started": "2025-01-13T08:07:43.872759Z",
          "shell.execute_reply": "2025-01-13T08:07:44.358621Z"
        },
        "id": "LURqPHliNQLM"
      },
      "outputs": [],
      "execution_count": null
    },
    {
      "cell_type": "markdown",
      "source": [
        "## Модель"
      ],
      "metadata": {
        "id": "6pjMhUZGNQLP"
      }
    },
    {
      "cell_type": "code",
      "source": [
        "class ToolTissueModel():\n",
        "    def __init__(self, \\\n",
        "                 m = 0.04, k0 = 970, b0 = 0.4, \\\n",
        "                 u_params = (0.1, 30), \\\n",
        "                 T = 0.5, num_obs = 1000, pred_per_obs = 10, \\\n",
        "                 init_state = np.array([0, 5, 500, 15]), \\\n",
        "                 noise_params = (1e-2, 5e-1)):\n",
        "        # параметры системы\n",
        "        self.m, self.k0, self.b0 = m, k0, b0\n",
        "\n",
        "        # параметры внешнего воздействия\n",
        "        assert len(u_params) == 2, '2 params: A, w'\n",
        "        self.A, self.w = u_params\n",
        "\n",
        "        # шаги по времени\n",
        "        self.T = T\n",
        "        self.num_obs = num_obs\n",
        "        self.pred_per_obs = pred_per_obs\n",
        "        self.cont_step = T / (num_obs * pred_per_obs ** 2)\n",
        "        self.pred_step = T / (num_obs * pred_per_obs)\n",
        "        self.obs_step = T / num_obs\n",
        "\n",
        "        # начальное состояние\n",
        "        self.init_state = init_state\n",
        "\n",
        "        # параметры шума\n",
        "        assert len(noise_params) == 2, '2 params: Q, R'\n",
        "        self.Q, self.R = noise_params\n",
        "\n",
        "        self.cont_states = None    # скрытые значения с шагом delta1 (для траектории)\n",
        "        self.filt_states = None    # скрытые значения с шагом delta2 (для фильтра)\n",
        "        self.observ = None         # наблюдения с шагом delta3\n",
        "\n",
        "    def u(self, t):\n",
        "        return self.A * np.sin(self.w * t)\n",
        "\n",
        "    def f_func(self, x, t, time_step):\n",
        "        return np.array([\n",
        "            x[0] + time_step * x[1],\n",
        "            x[1] + time_step / self.m * \\\n",
        "                (self.k0 * (self.u(t) - x[0]) + \\\n",
        "                 self.b0 * ((self.u(t) - self.u(t - time_step)) / time_step - x[1]) - \\\n",
        "                 x[2] * x[0] - x[3] * x[1]),\n",
        "            x[2],\n",
        "            x[3]\n",
        "        ])\n",
        "\n",
        "    def h_func(self, x, t):\n",
        "        return self.k0 * (x[0] - self.u(t))\n",
        "\n",
        "    def generate_states(self):\n",
        "        states = [self.init_state]\n",
        "        state_noises = stats.norm(loc=0, scale=self.Q / self.m * (self.cont_step) ** 0.5).rvs(size=self.num_obs * self.pred_per_obs ** 2)\n",
        "        for cur_time, noise in tqdm(zip(np.linspace(0, self.T, self.num_obs * self.pred_per_obs ** 2 + 1)[:-1], state_noises)):\n",
        "            states.append(self.f_func(states[-1], cur_time, self.cont_step) + np.array([0, noise, 0, 0]))\n",
        "        self.cont_states = np.array(states)\n",
        "        self.filt_states = np.array(states[::int(self.pred_step / self.cont_step)])\n",
        "\n",
        "    def generate_states_for_filt(self):\n",
        "        states = [self.init_state]\n",
        "        state_noises = stats.norm(loc=0, scale=self.Q / self.m * self.pred_step ** 0.5).rvs(size=self.num_obs * self.pred_per_obs)\n",
        "        for cur_time, noise in zip(np.linspace(0, self.T, self.num_obs * self.pred_per_obs + 1)[:-1], state_noises):\n",
        "            states.append(self.f_func(states[-1], cur_time, self.pred_step) + np.array([0, noise, 0, 0]))\n",
        "        self.filt_states = np.array(states)\n",
        "\n",
        "    def generate_obs(self):\n",
        "        assert not (self.filt_states is None), 'No states?'\n",
        "        obs_noises = stats.norm(loc=0, scale=self.R).rvs(size=self.num_obs)\n",
        "        obs = []\n",
        "        for cur_time, noise, state in zip(np.linspace(self.obs_step, self.T, self.num_obs), obs_noises, self.filt_states[self.pred_per_obs::self.pred_per_obs]):\n",
        "            obs.append(self.h_func(state, cur_time) + noise)\n",
        "        self.observ = np.array(obs)"
      ],
      "metadata": {
        "trusted": true,
        "execution": {
          "iopub.status.busy": "2025-01-13T08:07:44.367129Z",
          "iopub.execute_input": "2025-01-13T08:07:44.367458Z",
          "iopub.status.idle": "2025-01-13T08:07:44.384869Z",
          "shell.execute_reply.started": "2025-01-13T08:07:44.367432Z",
          "shell.execute_reply": "2025-01-13T08:07:44.383829Z"
        },
        "id": "__y1G1JyNQLQ"
      },
      "outputs": [],
      "execution_count": null
    },
    {
      "cell_type": "code",
      "source": [
        "model = ToolTissueModel()\n",
        "model.generate_states()\n",
        "model.generate_obs()"
      ],
      "metadata": {
        "trusted": true,
        "execution": {
          "iopub.status.busy": "2025-01-13T08:07:44.386200Z",
          "iopub.execute_input": "2025-01-13T08:07:44.386543Z",
          "iopub.status.idle": "2025-01-13T08:07:45.434289Z",
          "shell.execute_reply.started": "2025-01-13T08:07:44.386504Z",
          "shell.execute_reply": "2025-01-13T08:07:45.433412Z"
        },
        "id": "sz1IT3G6NQLS",
        "outputId": "f31812d6-9105-4773-ca0a-0c7225be23b8"
      },
      "outputs": [
        {
          "name": "stderr",
          "text": "100000it [00:00, 104880.25it/s]\n",
          "output_type": "stream"
        }
      ],
      "execution_count": null
    },
    {
      "cell_type": "code",
      "source": [
        "# для вывода графиков\n",
        "cont_time_grid = np.linspace(0, model.T, model.num_obs * model.pred_per_obs ** 2 + 1)\n",
        "filt_time_grid = np.linspace(0, model.T, model.num_obs * model.pred_per_obs + 1)\n",
        "obs_time_grid = np.linspace(model.obs_step, model.T, model.num_obs)"
      ],
      "metadata": {
        "trusted": true,
        "execution": {
          "iopub.status.busy": "2025-01-13T08:07:45.435133Z",
          "iopub.execute_input": "2025-01-13T08:07:45.435449Z",
          "iopub.status.idle": "2025-01-13T08:07:45.441096Z",
          "shell.execute_reply.started": "2025-01-13T08:07:45.435416Z",
          "shell.execute_reply": "2025-01-13T08:07:45.439810Z"
        },
        "id": "UmVIjQXCNQLT"
      },
      "outputs": [],
      "execution_count": null
    },
    {
      "cell_type": "markdown",
      "source": [
        "## Тривиальная оценка"
      ],
      "metadata": {
        "id": "inco3FgSNQLU"
      }
    },
    {
      "cell_type": "code",
      "source": [
        "class TrivialFilter():\n",
        "    def __init__(self, dyn_system, init_mean = np.array([0, 4, 450, 10])):\n",
        "        self.all_states = [init_mean]\n",
        "        self.system = dyn_system\n",
        "        self.T = self.system.T\n",
        "        self.time_step = self.system.pred_step\n",
        "\n",
        "        # self.all_cov = [init_cov]\n",
        "\n",
        "    def step(self, cur_time):\n",
        "        self.all_states.append(self.system.f_func(self.all_states[-1], cur_time, self.time_step))\n",
        "        # self.all_cov.append()\n",
        "\n",
        "    def train(self):\n",
        "        for cur_time in np.linspace(0, self.T, self.system.num_obs * self.system.pred_per_obs + 1)[:-1]:\n",
        "            self.step(cur_time)\n",
        "        self.all_states = np.array(self.all_states)\n",
        "        # self.all_cov = np.array(self.all_cov)"
      ],
      "metadata": {
        "trusted": true,
        "execution": {
          "iopub.status.busy": "2025-01-13T08:07:46.032263Z",
          "iopub.execute_input": "2025-01-13T08:07:46.032520Z",
          "iopub.status.idle": "2025-01-13T08:07:46.038646Z",
          "shell.execute_reply.started": "2025-01-13T08:07:46.032497Z",
          "shell.execute_reply": "2025-01-13T08:07:46.037575Z"
        },
        "id": "VUhF9e-CNQLV"
      },
      "outputs": [],
      "execution_count": null
    },
    {
      "cell_type": "code",
      "source": [
        "%time\n",
        "triv = TrivialFilter(model)\n",
        "triv.train()"
      ],
      "metadata": {
        "trusted": true,
        "execution": {
          "iopub.status.busy": "2025-01-13T08:07:46.041067Z",
          "iopub.execute_input": "2025-01-13T08:07:46.041359Z",
          "iopub.status.idle": "2025-01-13T08:07:46.134367Z",
          "shell.execute_reply.started": "2025-01-13T08:07:46.041335Z",
          "shell.execute_reply": "2025-01-13T08:07:46.133349Z"
        },
        "id": "TiybTuOJNQLV",
        "outputId": "55d6c2a3-1c4d-4374-dbed-6abe3fc7a1a9"
      },
      "outputs": [
        {
          "name": "stdout",
          "text": "CPU times: user 3 µs, sys: 1e+03 ns, total: 4 µs\nWall time: 6.91 µs\n",
          "output_type": "stream"
        }
      ],
      "execution_count": null
    },
    {
      "cell_type": "markdown",
      "source": [
        "## CKF"
      ],
      "metadata": {
        "id": "ImJlq1-LNQLW"
      }
    },
    {
      "cell_type": "code",
      "source": [
        "class CubatureKalmanFilter():\n",
        "    def __init__(self, dyn_system, init_state, init_cov):\n",
        "        self.dyn_system = dyn_system\n",
        "        self.time_step = self.dyn_system.pred_step\n",
        "        self.all_states = [init_state]\n",
        "        self.all_cov = [init_cov]\n",
        "        self.all_obs = self.dyn_system.observ\n",
        "        self.coef = -self.time_step / self.dyn_system.m\n",
        "        self.state_second_deriv = self.coef * np.array([[0, 0, 1, 0],\n",
        "                                                        [0, 0, 0, 1],\n",
        "                                                        [1, 0, 0, 0],\n",
        "                                                        [0, 1, 0, 0]])\n",
        "\n",
        "    def state_first_deriv(self, x):\n",
        "        return np.array([\n",
        "            [1, self.time_step, 0, 0],\n",
        "            [self.coef * (self.dyn_system.k0 + x[2]), 1 + self.coef * (self.dyn_system.b0 + x[3]), self.coef * x[0], self.coef * x[1]],\n",
        "            [0, 0, 1, 0],\n",
        "            [0, 0, 0, 1]\n",
        "        ])\n",
        "\n",
        "    def predict(self, cur_time):\n",
        "        pred_state = self.dyn_system.f_func(self.all_states[-1], cur_time, self.time_step)\n",
        "        pred_cov = self.state_first_deriv(self.all_states[-1]).dot(self.all_cov[-1]).dot(self.state_first_deriv(self.all_states[-1]).T) \\\n",
        "            + np.diag([0, self.time_step * (self.dyn_system.Q  / self.dyn_system.m) ** 2, 0, 0])\n",
        "        return pred_state, pred_cov\n",
        "\n",
        "    def correct(self, cur_obs, cur_time):\n",
        "        pred_Y = self.dyn_system.h_func(self.all_states[-1], cur_time)\n",
        "        pred_R = self.dyn_system.k0 ** 2 * self.all_cov[-1][0, 0] + self.dyn_system.R ** 2\n",
        "        temp_matr = self.dyn_system.k0 * self.all_cov[-1][0]\n",
        "        corr_state = self.all_states[-1] + temp_matr / pred_R * (cur_obs - pred_Y)\n",
        "        corr_cov = self.all_cov[-1] - temp_matr[:, np.newaxis] * temp_matr[np.newaxis, :] / pred_R\n",
        "        return corr_state, corr_cov\n",
        "\n",
        "    def step(self, cur_time, ind):\n",
        "        cur_state, cur_cov = self.predict(cur_time - self.time_step)\n",
        "        self.all_states.append(cur_state)\n",
        "        self.all_cov.append(cur_cov)\n",
        "        if not ind % self.dyn_system.pred_per_obs:\n",
        "            corr_state, corr_cov = self.correct(self.all_obs[ind // self.dyn_system.pred_per_obs - 1], cur_time)\n",
        "            self.all_states[-1] = corr_state\n",
        "            self.all_cov[-1] = corr_cov\n",
        "\n",
        "    def reset(self):\n",
        "        init_state, init_cov = self.all_states[0], self.all_cov[0]\n",
        "        self.all_states.clear()\n",
        "        self.all_cov.clear()\n",
        "        self.all_states.append(init_state)\n",
        "        self.all_cov.append(init_cov)\n",
        "\n",
        "    def train(self):\n",
        "        for ind, cur_time in enumerate(np.linspace(self.time_step, self.dyn_system.T, self.dyn_system.num_obs * self.dyn_system.pred_per_obs)):\n",
        "            self.step(cur_time, ind + 1)\n",
        "        self.all_states = np.array(self.all_states)\n",
        "        self.all_cov = np.array(self.all_cov)"
      ],
      "metadata": {
        "trusted": true,
        "execution": {
          "iopub.status.busy": "2025-01-13T08:07:46.136083Z",
          "iopub.execute_input": "2025-01-13T08:07:46.136372Z",
          "iopub.status.idle": "2025-01-13T08:07:46.150049Z",
          "shell.execute_reply.started": "2025-01-13T08:07:46.136347Z",
          "shell.execute_reply": "2025-01-13T08:07:46.148995Z"
        },
        "id": "oQWqsVzrNQLW"
      },
      "outputs": [],
      "execution_count": null
    },
    {
      "cell_type": "code",
      "source": [
        "init_state = np.array([0, 5, 500, 15])\n",
        "init_mean = np.array([0, 4, 450, 10])\n",
        "init_cov = np.diag([0.001, 1, 50, 5]) ** 2\n",
        "init_st_for_filt = stats.multivariate_normal(mean=init_mean, cov=init_cov).rvs(size=1, random_state=2)"
      ],
      "metadata": {
        "trusted": true,
        "execution": {
          "iopub.status.busy": "2025-01-13T08:07:46.151061Z",
          "iopub.execute_input": "2025-01-13T08:07:46.151414Z",
          "iopub.status.idle": "2025-01-13T08:07:46.192924Z",
          "shell.execute_reply.started": "2025-01-13T08:07:46.151389Z",
          "shell.execute_reply": "2025-01-13T08:07:46.191651Z"
        },
        "id": "vwP2FljDNQLX"
      },
      "outputs": [],
      "execution_count": null
    },
    {
      "cell_type": "code",
      "source": [
        "%time\n",
        "ckf = CubatureKalmanFilter(model, init_st_for_filt, init_cov=init_cov)\n",
        "ckf.train()"
      ],
      "metadata": {
        "trusted": true,
        "execution": {
          "iopub.status.busy": "2025-01-13T08:07:46.193957Z",
          "iopub.execute_input": "2025-01-13T08:07:46.194255Z",
          "iopub.status.idle": "2025-01-13T08:07:46.510801Z",
          "shell.execute_reply.started": "2025-01-13T08:07:46.194229Z",
          "shell.execute_reply": "2025-01-13T08:07:46.509757Z"
        },
        "id": "mDx0pvBSNQLX",
        "outputId": "d52945eb-f961-4eba-8109-85fae9aef12f"
      },
      "outputs": [
        {
          "name": "stdout",
          "text": "CPU times: user 3 µs, sys: 1 µs, total: 4 µs\nWall time: 6.2 µs\n",
          "output_type": "stream"
        }
      ],
      "execution_count": null
    },
    {
      "cell_type": "markdown",
      "source": [
        "## PF (boot)"
      ],
      "metadata": {
        "id": "sx6m7umgNQLY"
      }
    },
    {
      "cell_type": "code",
      "source": [
        "class ParticleFilter_boot():\n",
        "    def __init__(self, dyn_system, \\\n",
        "                 init_mean = np.array([0, 4, 450, 10]), init_cov = np.diag([0.001, 1, 50, 5]) ** 2, n_particles = 1000):\n",
        "        self.system = dyn_system\n",
        "        self.time_step = self.system.pred_step\n",
        "        self.state_noise_matr = np.diag([self.system.Q / self.system.m * self.time_step ** 0.5, init_cov[2, 2] ** 0.5 / 100, init_cov[3, 3] ** 0.5 / 100])\n",
        "        self.all_obs = self.system.observ\n",
        "        self.n_particles = n_particles\n",
        "        self.weights = np.repeat(1 / n_particles, n_particles)\n",
        "        self.particles = stats.multivariate_normal(mean=init_mean, cov=init_cov).rvs(size=self.n_particles)\n",
        "        self.all_states = [np.sum(self.weights[:, np.newaxis] * self.particles, axis=0)]\n",
        "\n",
        "    def generate_particles(self, cur_time):\n",
        "        particles_mean = np.apply_along_axis(self.system.f_func, axis=1, arr=self.particles, t=cur_time, time_step=self.time_step)\n",
        "        particles_noises = np.hstack((np.zeros(shape=(self.n_particles, 1)), stats.multivariate_normal(mean=np.zeros(shape=(self.state_noise_matr.shape[0], )), cov=self.state_noise_matr ** 2).rvs(size=self.n_particles)))\n",
        "        self.particles = particles_mean + particles_noises\n",
        "\n",
        "    def update_weights(self, cur_obs, cur_time):\n",
        "        obs_func_res = np.apply_along_axis(self.system.h_func, axis=1, arr=self.particles, t=cur_time)\n",
        "        self.weights = stats.norm(loc=cur_obs, scale=self.system.R).pdf(obs_func_res) * self.weights\n",
        "        self.weights /= np.sum(self.weights)\n",
        "\n",
        "    def check_eff(self):\n",
        "        return 1 / np.sum(self.weights ** 2) > self.n_particles / 10\n",
        "\n",
        "    def particles_step(self, cur_time):\n",
        "        self.particles = np.apply_along_axis(self.system.f_func, axis=1, arr=self.particles, t=cur_time, time_step=self.time_step)\n",
        "        self.all_states.append(np.sum(self.weights[:, np.newaxis] * self.particles, axis=0))\n",
        "\n",
        "    def correct(self, cur_obs, cur_time):\n",
        "        self.generate_particles(cur_time - self.time_step)\n",
        "        self.update_weights(cur_obs, cur_time)\n",
        "        self.all_states.append(np.sum(self.weights[:, np.newaxis] * self.particles, axis=0))\n",
        "        if not self.check_eff():\n",
        "            self.particles = self.particles[np.random.choice(a=self.n_particles, size=self.n_particles, p=self.weights)]\n",
        "            self.weights = np.repeat(1 / self.n_particles, self.n_particles)\n",
        "\n",
        "    def step(self, cur_time, ind):\n",
        "        if ind % self.system.pred_per_obs:\n",
        "            self.particles_step(cur_time - self.time_step)\n",
        "        else:\n",
        "            self.correct(self.all_obs[ind // self.system.pred_per_obs - 1], cur_time)\n",
        "\n",
        "    def train(self):\n",
        "        for ind, cur_time in enumerate(np.linspace(self.time_step, self.system.T, self.system.num_obs * self.system.pred_per_obs)):\n",
        "            self.step(cur_time, ind + 1)\n",
        "        self.all_states = np.array(self.all_states)"
      ],
      "metadata": {
        "trusted": true,
        "execution": {
          "iopub.status.busy": "2025-01-13T08:07:46.511911Z",
          "iopub.execute_input": "2025-01-13T08:07:46.512287Z",
          "iopub.status.idle": "2025-01-13T08:07:46.525258Z",
          "shell.execute_reply.started": "2025-01-13T08:07:46.512251Z",
          "shell.execute_reply": "2025-01-13T08:07:46.524261Z"
        },
        "id": "nGaDWi3CNQLY"
      },
      "outputs": [],
      "execution_count": null
    },
    {
      "cell_type": "code",
      "source": [
        "%time\n",
        "pf = ParticleFilter_boot(model)\n",
        "pf.train()"
      ],
      "metadata": {
        "trusted": true,
        "execution": {
          "iopub.status.busy": "2025-01-13T08:07:46.526204Z",
          "iopub.execute_input": "2025-01-13T08:07:46.526531Z",
          "iopub.status.idle": "2025-01-13T08:09:16.902770Z",
          "shell.execute_reply.started": "2025-01-13T08:07:46.526499Z",
          "shell.execute_reply": "2025-01-13T08:09:16.901914Z"
        },
        "id": "3HHH4YpRNQLZ",
        "outputId": "678b3085-14ec-442f-89bb-0d5d2ae9e73b"
      },
      "outputs": [
        {
          "name": "stdout",
          "text": "CPU times: user 3 µs, sys: 0 ns, total: 3 µs\nWall time: 6.91 µs\n",
          "output_type": "stream"
        }
      ],
      "execution_count": null
    }
  ]
}